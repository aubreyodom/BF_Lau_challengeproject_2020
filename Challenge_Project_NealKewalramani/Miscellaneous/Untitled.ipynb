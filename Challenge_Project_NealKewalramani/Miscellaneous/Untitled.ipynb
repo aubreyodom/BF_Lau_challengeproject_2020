{
 "cells": [
  {
   "cell_type": "code",
   "execution_count": 68,
   "metadata": {},
   "outputs": [],
   "source": [
    "import pandas as pd\n",
    "from matplotlib import pyplot as plt\n",
    "import numpy as np\n",
    "import math"
   ]
  },
  {
   "cell_type": "code",
   "execution_count": 81,
   "metadata": {},
   "outputs": [],
   "source": [
    "df = pd.read_excel('Correlation3.xls')\n",
    "#print(df[df['Ratio of Peaks to Ideal'] == 1].mean(axis = 0))\n",
    "#print(df[(df['Ratio of Peaks to Ideal'] == 1) & (df['Ratio of Range'] >= 0.863889) & (df['Inverse Standard Deviation'] >= 0.273588)].median(axis=0))\n",
    "#print(df[(df['Ratio of Peaks to Ideal'] == 1) & (df['Ratio of Range'] >= 0.863889) & (df['Inverse Standard Deviation'] >= 0.273588)].std(axis=0))"
   ]
  },
  {
   "cell_type": "code",
   "execution_count": 50,
   "metadata": {},
   "outputs": [],
   "source": [
    "#print(df[(df['Ratio of Peaks to Ideal'] == 1) & (df['Ratio of Range'] >= 0.863889) & (df['Inverse Standard Deviation'] >= 0.273588)])"
   ]
  },
  {
   "cell_type": "code",
   "execution_count": 21,
   "metadata": {},
   "outputs": [
    {
     "data": {
      "image/png": "[encoded data removed]",
      "text/plain": [
       "<Figure size 432x288 with 1 Axes>"
      ]
     },
     "metadata": {
      "needs_background": "light"
     },
     "output_type": "display_data"
    },
    {
     "data": {
      "text/plain": [
       "<matplotlib.collections.PathCollection at 0x7ff6261280f0>"
      ]
     },
     "execution_count": 21,
     "metadata": {},
     "output_type": "execute_result"
    },
    {
     "data": {
      "image/png": "[encoded data removed]",
      "text/plain": [
       "<Figure size 432x288 with 1 Axes>"
      ]
     },
     "metadata": {
      "needs_background": "light"
     },
     "output_type": "display_data"
    }
   ],
   "source": [
    "fig, ax = plt.subplots()\n",
    "for i in range(df.shape[0]):\n",
    "    if df.iloc[i, 2] == 1:\n",
    "        ax.scatter(df.iloc[i, 1], df.iloc[i, 6], c = 'r')\n",
    "    else:\n",
    "        ax.scatter(df.iloc[i, 1], df.iloc[i, 6], c = 'b')\n",
    "plt.show()\n",
    "\n",
    "plt.scatter(df.iloc[:, 2], df.iloc[:, 6])\n",
    "plt.show()"
   ]
  },
  {
   "cell_type": "code",
   "execution_count": 114,
   "metadata": {},
   "outputs": [
    {
     "name": "stdout",
     "output_type": "stream",
     "text": [
      "0 -0.1713626865708427\n",
      "1 -0.10949758194609237\n",
      "2 -0.06873499431760591\n",
      "3 -0.07654353515234259\n",
      "4 -0.08748272180847494\n",
      "5 -0.08235383292918863\n",
      "6 -0.10045443130020014\n",
      "7 -0.1063519093906597\n",
      "8 -0.10826204758450812\n",
      "9 -0.1082641677425734\n",
      "10 -0.12739415976426877\n",
      "11 -0.08413338424211428\n",
      "12 -0.02879707325397697\n",
      "13 -0.05838978251870184\n",
      "14 -0.05690783897490011\n",
      "15 -0.017460041739982078\n",
      "16 -0.048751895860900465\n",
      "17 -0.024902764882285166\n",
      "18 0.015429706080789533\n",
      "19 0.08190312460651662\n",
      "20 0.08303395834147935\n",
      "21 0.20325497422067842\n",
      "22 nan\n",
      "23 nan\n",
      "24 nan\n",
      "25 nan\n",
      "26 nan\n",
      "27 nan\n",
      "28 nan\n",
      "29 nan\n",
      "30 nan\n",
      "31 nan\n",
      "32 nan\n",
      "33 nan\n",
      "34 nan\n",
      "35 nan\n",
      "36 nan\n",
      "37 nan\n",
      "38 nan\n",
      "39 nan\n",
      "40 nan\n",
      "41 nan\n",
      "42 nan\n",
      "43 nan\n",
      "44 nan\n",
      "45 nan\n",
      "46 nan\n",
      "47 nan\n",
      "48 nan\n",
      "49 nan\n",
      "50 nan\n",
      "51 nan\n",
      "52 nan\n",
      "53 nan\n",
      "54 nan\n",
      "55 nan\n",
      "56 nan\n",
      "57 nan\n",
      "58 nan\n",
      "59 nan\n",
      "60 nan\n",
      "61 nan\n",
      "62 nan\n",
      "0 0.9999999999999999\n",
      "0 0.9999999999999999\n",
      "0 1.0\n",
      "[0.5, 0.85, 0.9805806756909203, 0.46153846153846156]\n"
     ]
    }
   ],
   "source": [
    "def cost(numData, g, corr):\n",
    "    return abs(numData**g * corr)\n",
    "\n",
    "df = pd.read_excel('Correlation3.xls')\n",
    "order = ['Ratio of Range', 'Inverse Standard Deviation', 'Ratio of Peaks Found']\n",
    "\n",
    "#print(df)\n",
    "weightList = []\n",
    "for feature in order:\n",
    "    score = 0\n",
    "    index = None\n",
    "    weight = None\n",
    "    df = df.sort_values(by=[feature])\n",
    "    #print(df.shape[0])\n",
    "    for i in range(df.shape[0] - 1):\n",
    "        dfX = df.loc[:, feature]\n",
    "        dfX = dfX[i:]\n",
    "        dfY = df.loc[:, 'Rankings']\n",
    "        dfY = dfY[i:]\n",
    "        #print(i, df.shape[0], len(dfX))\n",
    "        corr = dfX.corr(dfY)\n",
    "        print(i, corr)\n",
    "        if math.isnan(corr):\n",
    "            continue\n",
    "        scoreTemp = cost(len(dfX), 1.25, corr)\n",
    "        #print(i, len(dfX))\n",
    "        \n",
    "        if scoreTemp > score:\n",
    "            score = scoreTemp\n",
    "            #print(dfX)\n",
    "            weight = dfX.iloc[0]\n",
    "            index = i\n",
    "            \n",
    "    weightList.append(weight)\n",
    "    df = df.iloc[i:, :]\n",
    "\n",
    "print(weightList)"
   ]
  },
  {
   "cell_type": "code",
   "execution_count": null,
   "metadata": {},
   "outputs": [],
   "source": []
  }
 ],
 "metadata": {
  "kernelspec": {
   "display_name": "Python 3",
   "language": "python",
   "name": "python3"
  },
  "language_info": {
   "codemirror_mode": {
    "name": "ipython",
    "version": 3
   },
   "file_extension": ".py",
   "mimetype": "text/x-python",
   "name": "python",
   "nbconvert_exporter": "python",
   "pygments_lexer": "ipython3",
   "version": "3.7.3"
  }
 },
 "nbformat": 4,
 "nbformat_minor": 2
}
